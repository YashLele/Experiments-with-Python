{
 "cells": [
  {
   "cell_type": "markdown",
   "metadata": {},
   "source": [
    "# Fibonacci and $N$-bonacci Sequence with the $Golden$ $Ratio$"
   ]
  },
  {
   "cell_type": "markdown",
   "metadata": {},
   "source": [
    "## Fibonacci sequence"
   ]
  },
  {
   "cell_type": "markdown",
   "metadata": {},
   "source": [
    "### 1) Usual for-loop approach"
   ]
  },
  {
   "cell_type": "code",
   "execution_count": 4,
   "metadata": {},
   "outputs": [
    {
     "name": "stdout",
     "output_type": "stream",
     "text": [
      "[0, 1, 1, 2, 3, 5, 8, 13, 21, 34, 55, 89, 144, 233, 377]\n"
     ]
    }
   ],
   "source": [
    "f=[0,1]\n",
    "for i in range(2,15):\n",
    "    f.append(f[i-1]+f[i-2])\n",
    "print(f)"
   ]
  },
  {
   "cell_type": "markdown",
   "metadata": {},
   "source": [
    "### 2) As a function"
   ]
  },
  {
   "cell_type": "code",
   "execution_count": 5,
   "metadata": {},
   "outputs": [
    {
     "name": "stdout",
     "output_type": "stream",
     "text": [
      "Argument should be non-zero and positive\n",
      "<class 'str'>\n",
      "[0]\n",
      "<class 'list'>\n",
      "[0, 1]\n",
      "<class 'list'>\n",
      "[0, 1, 1, 2, 3, 5, 8, 13, 21, 34, 55, 89, 144, 233, 377, 610, 987]\n",
      "<class 'list'>\n"
     ]
    }
   ],
   "source": [
    "# This function takes an integer input n and returns a list having first n Fibonacci numbers\n",
    "def fibgenerator(n):\n",
    "    try:\n",
    "        if n<1:\n",
    "            return \"Argument should be non-zero and positive\"\n",
    "        elif n==1:\n",
    "            return [0]\n",
    "        elif n==2:\n",
    "            return [0,1]\n",
    "        else:\n",
    "            fib=[0,1]\n",
    "            for i in range(2,n):\n",
    "                fib.append(fib[i-2]+fib[i-1])\n",
    "            return fib\n",
    "        \n",
    "    except TypeError as te:\n",
    "        return \"Argument type should be int\"\n",
    "    \n",
    "a=fibgenerator(0)\n",
    "print(a)\n",
    "print(type(a))\n",
    "a=fibgenerator(1)\n",
    "print(a)\n",
    "print(type(a))\n",
    "a=fibgenerator(2)\n",
    "print(a)\n",
    "print(type(a))\n",
    "a=fibgenerator(17)\n",
    "print(a)\n",
    "print(type(a))"
   ]
  },
  {
   "cell_type": "code",
   "execution_count": 6,
   "metadata": {},
   "outputs": [
    {
     "name": "stdout",
     "output_type": "stream",
     "text": [
      "Argument type should be int\n"
     ]
    }
   ],
   "source": [
    "a=fibgenerator('p')\n",
    "print(a)"
   ]
  },
  {
   "cell_type": "markdown",
   "metadata": {},
   "source": [
    "### 3) Using recursion"
   ]
  },
  {
   "cell_type": "code",
   "execution_count": 11,
   "metadata": {},
   "outputs": [
    {
     "name": "stdout",
     "output_type": "stream",
     "text": [
      "Argument should be a positive integer\n",
      "<class 'str'>\n",
      "[0]\n",
      "<class 'list'>\n",
      "[0, 1]\n",
      "<class 'list'>\n",
      "[0, 1, 1, 2, 3, 5, 8, 13, 21, 34, 55, 89, 144, 233, 377, 610, 987]\n",
      "<class 'list'>\n",
      "Argument type should be int\n",
      "<class 'str'>\n"
     ]
    }
   ],
   "source": [
    "def fibogen(m):\n",
    "    try:\n",
    "        if m<1:\n",
    "            return \"Argument should be a positive integer\"\n",
    "        else:\n",
    "            return recfibonacci(m)\n",
    "        \n",
    "    except TypeError as te:\n",
    "        return \"Argument type should be int\"\n",
    "\n",
    "\n",
    "def recfibonacci(n):\n",
    "    if n<=2:\n",
    "        return list(range(n))\n",
    "    else:\n",
    "        prev=recfibonacci(n-1)\n",
    "        prev.append(prev[-2]+prev[-1])\n",
    "        return prev\n",
    "\n",
    "a=fibogen(0)\n",
    "print(a)\n",
    "print(type(a))\n",
    "a=fibogen(1)\n",
    "print(a)\n",
    "print(type(a))\n",
    "a=fibogen(2)\n",
    "print(a)\n",
    "print(type(a))\n",
    "a=fibogen(17)\n",
    "print(a)\n",
    "print(type(a))\n",
    "a=fibogen(3.1234)\n",
    "print(a)\n",
    "print(type(a))\n"
   ]
  },
  {
   "cell_type": "code",
   "execution_count": 8,
   "metadata": {},
   "outputs": [
    {
     "name": "stdout",
     "output_type": "stream",
     "text": [
      "608 ns ± 6.07 ns per loop (mean ± std. dev. of 7 runs, 1000000 loops each)\n"
     ]
    }
   ],
   "source": [
    "%%timeit\n",
    "b=fibogen(4)"
   ]
  },
  {
   "cell_type": "markdown",
   "metadata": {},
   "source": [
    "## Generalised $N$-bonacci series"
   ]
  },
  {
   "cell_type": "code",
   "execution_count": 5,
   "metadata": {},
   "outputs": [
    {
     "data": {
      "text/plain": [
       "[0,\n",
       " 1,\n",
       " 2,\n",
       " 3,\n",
       " 6,\n",
       " 12,\n",
       " 23,\n",
       " 44,\n",
       " 85,\n",
       " 164,\n",
       " 316,\n",
       " 609,\n",
       " 1174,\n",
       " 2263,\n",
       " 4362,\n",
       " 8408,\n",
       " 16207,\n",
       " 31240,\n",
       " 60217,\n",
       " 116072]"
      ]
     },
     "execution_count": 5,
     "metadata": {},
     "output_type": "execute_result"
    }
   ],
   "source": [
    "def sum_of_last_n(n,lst):\n",
    "    if n == 0:\n",
    "        return 0\n",
    "    return lst[-n]+sum_of_last_n(n-1,lst)\n",
    "\n",
    "def nbonacci(N,m): # N is the N in N-bonacci; m is the number of elements to generate\n",
    "    if m<1:\n",
    "        return \"Arguments should be positive integers\"\n",
    "    if m <= N:\n",
    "        return list(range(m))\n",
    "    prev = nbonacci(N,m-1)\n",
    "    prev.append(sum_of_last_n(N,prev))\n",
    "    return prev\n",
    "    \n",
    "nbonacci(4,20)"
   ]
  },
  {
   "cell_type": "markdown",
   "metadata": {},
   "source": [
    "## Trying to find out Golden Ratios for different $N$-bonacci sequences"
   ]
  },
  {
   "cell_type": "code",
   "execution_count": 7,
   "metadata": {},
   "outputs": [],
   "source": [
    "fibonacci = nbonacci(2,100)\n",
    "tribonacci = nbonacci(3,100)\n",
    "quadbonacci = nbonacci(4,100)\n",
    "pentabonacci = nbonacci(5,100)\n",
    "hexabonacci = nbonacci(6,100)"
   ]
  },
  {
   "cell_type": "code",
   "execution_count": 14,
   "metadata": {},
   "outputs": [
    {
     "name": "stdout",
     "output_type": "stream",
     "text": [
      "[1.0, 2.0, 1.5, 1.6666666666666667, 1.6, 1.625, 1.6153846153846154, 1.619047619047619, 1.6176470588235294, 1.6181818181818182, 1.6179775280898876, 1.6180555555555556, 1.6180257510729614, 1.6180371352785146, 1.618032786885246, 1.618034447821682, 1.6180338134001253, 1.618034055727554, 1.6180339631667064, 1.6180339985218033, 1.618033985017358, 1.6180339901755971, 1.618033988205325, 1.618033988957902, 1.6180339886704431, 1.6180339887802426, 1.618033988738303, 1.6180339887543225, 1.6180339887482036, 1.6180339887505408, 1.6180339887496482, 1.618033988749989, 1.618033988749859, 1.6180339887499087, 1.6180339887498896, 1.618033988749897, 1.618033988749894, 1.6180339887498951, 1.6180339887498947, 1.618033988749895, 1.618033988749895, 1.618033988749895, 1.618033988749895, 1.618033988749895, 1.618033988749895, 1.618033988749895, 1.618033988749895, 1.618033988749895, 1.618033988749895, 1.618033988749895, 1.618033988749895, 1.618033988749895, 1.618033988749895, 1.618033988749895, 1.618033988749895, 1.618033988749895, 1.618033988749895, 1.618033988749895, 1.618033988749895, 1.618033988749895, 1.618033988749895, 1.618033988749895, 1.618033988749895, 1.618033988749895, 1.618033988749895, 1.618033988749895, 1.618033988749895, 1.618033988749895, 1.618033988749895, 1.618033988749895, 1.618033988749895, 1.618033988749895, 1.618033988749895, 1.618033988749895, 1.618033988749895, 1.618033988749895, 1.618033988749895, 1.618033988749895, 1.618033988749895, 1.618033988749895, 1.618033988749895, 1.618033988749895, 1.618033988749895, 1.618033988749895, 1.618033988749895, 1.618033988749895, 1.618033988749895, 1.618033988749895, 1.618033988749895, 1.618033988749895, 1.618033988749895, 1.618033988749895, 1.618033988749895, 1.618033988749895, 1.618033988749895, 1.618033988749895, 1.618033988749895, 1.618033988749895]\n"
     ]
    }
   ],
   "source": [
    "def consec_ratio(lst):\n",
    "    #constructs a list of ratios of all pairs of consecutive elements in \"lst\"\n",
    "    res = [lst[i]/lst[i-1] for i in range(2,len(lst))]\n",
    "    return res\n",
    "\n",
    "print(consec_ratio(fibonacci))"
   ]
  },
  {
   "cell_type": "code",
   "execution_count": 15,
   "metadata": {},
   "outputs": [
    {
     "name": "stdout",
     "output_type": "stream",
     "text": [
      "1.8392867552141612\n"
     ]
    }
   ],
   "source": [
    "def golden_ratio(lst):\n",
    "    return consec_ratio(lst)[-1]\n",
    "    \n",
    "    \n",
    "print(golden_ratio(tribonacci))"
   ]
  },
  {
   "cell_type": "code",
   "execution_count": 16,
   "metadata": {},
   "outputs": [
    {
     "name": "stdout",
     "output_type": "stream",
     "text": [
      "1.9275619754829254\n"
     ]
    }
   ],
   "source": [
    "print(golden_ratio(quadbonacci))"
   ]
  },
  {
   "cell_type": "code",
   "execution_count": 17,
   "metadata": {},
   "outputs": [
    {
     "name": "stdout",
     "output_type": "stream",
     "text": [
      "1.9659482366454852\n"
     ]
    }
   ],
   "source": [
    "print(golden_ratio(pentabonacci))"
   ]
  },
  {
   "cell_type": "code",
   "execution_count": 18,
   "metadata": {},
   "outputs": [
    {
     "name": "stdout",
     "output_type": "stream",
     "text": [
      "1.9835828434243263\n"
     ]
    }
   ],
   "source": [
    "print(golden_ratio(hexabonacci))"
   ]
  },
  {
   "cell_type": "code",
   "execution_count": null,
   "metadata": {},
   "outputs": [],
   "source": []
  }
 ],
 "metadata": {
  "kernelspec": {
   "display_name": "Python 3",
   "language": "python",
   "name": "python3"
  },
  "language_info": {
   "codemirror_mode": {
    "name": "ipython",
    "version": 3
   },
   "file_extension": ".py",
   "mimetype": "text/x-python",
   "name": "python",
   "nbconvert_exporter": "python",
   "pygments_lexer": "ipython3",
   "version": "3.7.1"
  }
 },
 "nbformat": 4,
 "nbformat_minor": 2
}
