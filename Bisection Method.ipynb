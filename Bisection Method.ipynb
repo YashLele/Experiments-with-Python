{
 "cells": [
  {
   "cell_type": "markdown",
   "metadata": {},
   "source": [
    "# Bisection Method"
   ]
  },
  {
   "cell_type": "markdown",
   "metadata": {},
   "source": [
    "Given a continuous function $f(x)$,<br>\n",
    "we take two random values $x_1$ and $x_2$ as the endpoints of an interval<br>\n",
    "If $f(x_1)$ and $f(x_2)$ have opposite signs:<br>\n",
    "<ul>\n",
    "   Take $x_3 = (x_1+x_2)/2$<br>\n",
    "   Calculate $f(x_3)$, compare it with earlier calculated $f(x_1)$ and $f(x_2)$<br>\n",
    "   Repeat the process for the interval (among {$x_1$ to $x_3$} and {$x_3$ to $x_2$}) having opposite signs at the endpoints until you hit $f(x)=0$\n",
    "</ul>"
   ]
  },
  {
   "cell_type": "markdown",
   "metadata": {},
   "source": [
    "## For function $f(x) = 2x^2 - 3$"
   ]
  },
  {
   "cell_type": "code",
   "execution_count": 1,
   "metadata": {},
   "outputs": [
    {
     "name": "stdout",
     "output_type": "stream",
     "text": [
      "from                 -1 to                 10 \n",
      " \n",
      "from                 -1 to                4.5 i.e. the  left half\n",
      " \n",
      "from                 -1 to               1.75 i.e. the  left half\n",
      " \n",
      "from              0.375 to               1.75 i.e. the right half\n",
      " \n",
      "from             1.0625 to               1.75 i.e. the right half\n",
      " \n",
      "from             1.0625 to            1.40625 i.e. the  left half\n",
      " \n",
      "from             1.0625 to           1.234375 i.e. the  left half\n",
      " \n",
      "from          1.1484375 to           1.234375 i.e. the right half\n",
      " \n",
      "from         1.19140625 to           1.234375 i.e. the right half\n",
      " \n",
      "from        1.212890625 to           1.234375 i.e. the right half\n",
      " \n",
      "from       1.2236328125 to           1.234375 i.e. the right half\n",
      " \n",
      "from       1.2236328125 to      1.22900390625 i.e. the  left half\n",
      " \n",
      "from       1.2236328125 to     1.226318359375 i.e. the  left half\n",
      " \n",
      "from       1.2236328125 to    1.2249755859375 i.e. the  left half\n",
      " \n",
      "from   1.22430419921875 to    1.2249755859375 i.e. the right half\n",
      " \n",
      "from  1.224639892578125 to    1.2249755859375 i.e. the right half\n",
      " \n",
      "from  1.224639892578125 to 1.2248077392578125 i.e. the  left half\n",
      " \n",
      "from 1.2247238159179688 to 1.2248077392578125 i.e. the right half\n",
      " \n",
      "from 1.2247238159179688 to 1.2247657775878906 i.e. the  left half\n",
      " \n",
      "from 1.2247447967529297 to 1.2247657775878906 i.e. the right half\n",
      " \n",
      "from 1.2247447967529297 to 1.2247552871704102 i.e. the  left half\n",
      " \n",
      "from 1.2247447967529297 to   1.22475004196167 i.e. the  left half\n",
      " \n",
      "from 1.2247447967529297 to 1.2247474193572998 i.e. the  left half\n",
      " \n",
      "from 1.2247447967529297 to 1.2247461080551147 i.e. the  left half\n",
      " \n",
      "from 1.2247447967529297 to 1.2247454524040222 i.e. the  left half\n",
      " \n",
      "from 1.2247447967529297 to  1.224745124578476 i.e. the  left half\n",
      " \n",
      "from 1.2247447967529297 to 1.2247449606657028 i.e. the  left half\n",
      " \n",
      "from 1.2247447967529297 to 1.2247448787093163 i.e. the  left half\n",
      " \n",
      "from  1.224744837731123 to 1.2247448787093163 i.e. the right half\n",
      " \n",
      "from 1.2247448582202196 to 1.2247448787093163 i.e. the right half\n",
      " \n",
      "from  1.224744868464768 to 1.2247448787093163 i.e. the right half\n",
      " \n",
      "from  1.224744868464768 to  1.224744873587042 i.e. the  left half\n",
      " \n",
      "from  1.224744871025905 to  1.224744873587042 i.e. the right half\n",
      " \n",
      "from  1.224744871025905 to 1.2247448723064736 i.e. the  left half\n",
      " \n",
      "from  1.224744871025905 to 1.2247448716661893 i.e. the  left half\n",
      "root is at 1.2247448713460471\n"
     ]
    }
   ],
   "source": [
    "def f(x):\n",
    "    return (2*x*x - 3)\n",
    "\n",
    "def bisection (x1,x2,s1,s2): # s1 and s2 are signs of f(x1) and f(x2), i.e. True for +ve, False otherwise\n",
    "    x3=(x1+x2)/2\n",
    "    fx3=f(x3)\n",
    "    if(abs(fx3)>0.000000001): # 0.000000001 is just for tolerance, otherwise the recursion depth would max out for irrational roots\n",
    "        s3=(fx3>0)\n",
    "        print(' ')\n",
    "        if(s1==s3):\n",
    "            print('from {:18} to {:18} i.e. the right half'.format(x3,x2))\n",
    "            return bisection(x3,x2,s3,s2)\n",
    "        else:\n",
    "            print('from {:18} to {:18} i.e. the  left half'.format(x1,x3))\n",
    "            return bisection(x1,x3,s1,s3)\n",
    "    else:\n",
    "        return x3\n",
    "\n",
    "## Driver program\n",
    "\n",
    "x1=-1\n",
    "x2=10\n",
    "fx1=f(x1)\n",
    "fx2=f(x2)\n",
    "print('from {:18} to {:18} '.format(x1,x2))\n",
    "\n",
    "if fx1 == 0:\n",
    "    print('root is',x1)\n",
    "elif fx2 == 0:\n",
    "    print('root is',x2)\n",
    "else:\n",
    "    s1 = (fx1>0)\n",
    "    s2 = (fx2>0)\n",
    "    if s1!=s2:\n",
    "        print('root is at',bisection(x1,x2,s1,s2))\n",
    "    else:\n",
    "        print('matching signs- Interval discarded')"
   ]
  },
  {
   "cell_type": "code",
   "execution_count": 2,
   "metadata": {
    "scrolled": false
   },
   "outputs": [
    {
     "name": "stdout",
     "output_type": "stream",
     "text": [
      "from                 -1 to                 10 \n",
      "from                 -1 to                4.5 i.e. the  left half\n",
      "from                 -1 to               1.75 i.e. the  left half\n",
      "from              0.375 to               1.75 i.e. the right half\n",
      "from             1.0625 to               1.75 i.e. the right half\n",
      "from             1.0625 to            1.40625 i.e. the  left half\n",
      "from             1.0625 to           1.234375 i.e. the  left half\n",
      "from          1.1484375 to           1.234375 i.e. the right half\n",
      "from         1.19140625 to           1.234375 i.e. the right half\n",
      "from        1.212890625 to           1.234375 i.e. the right half\n",
      "from       1.2236328125 to           1.234375 i.e. the right half\n",
      "from       1.2236328125 to      1.22900390625 i.e. the  left half\n",
      "from       1.2236328125 to     1.226318359375 i.e. the  left half\n",
      "from       1.2236328125 to    1.2249755859375 i.e. the  left half\n",
      "from   1.22430419921875 to    1.2249755859375 i.e. the right half\n",
      "from  1.224639892578125 to    1.2249755859375 i.e. the right half\n",
      "from  1.224639892578125 to 1.2248077392578125 i.e. the  left half\n",
      "from 1.2247238159179688 to 1.2248077392578125 i.e. the right half\n",
      "from 1.2247238159179688 to 1.2247657775878906 i.e. the  left half\n",
      "from 1.2247447967529297 to 1.2247657775878906 i.e. the right half\n",
      "from 1.2247447967529297 to 1.2247552871704102 i.e. the  left half\n",
      "from 1.2247447967529297 to   1.22475004196167 i.e. the  left half\n",
      "from 1.2247447967529297 to 1.2247474193572998 i.e. the  left half\n",
      "from 1.2247447967529297 to 1.2247461080551147 i.e. the  left half\n",
      "from 1.2247447967529297 to 1.2247454524040222 i.e. the  left half\n",
      "from 1.2247447967529297 to  1.224745124578476 i.e. the  left half\n",
      "from 1.2247447967529297 to 1.2247449606657028 i.e. the  left half\n",
      "from 1.2247447967529297 to 1.2247448787093163 i.e. the  left half\n",
      "from  1.224744837731123 to 1.2247448787093163 i.e. the right half\n",
      "from 1.2247448582202196 to 1.2247448787093163 i.e. the right half\n",
      "from  1.224744868464768 to 1.2247448787093163 i.e. the right half\n",
      "from  1.224744868464768 to  1.224744873587042 i.e. the  left half\n",
      "from  1.224744871025905 to  1.224744873587042 i.e. the right half\n",
      "from  1.224744871025905 to 1.2247448723064736 i.e. the  left half\n",
      "from  1.224744871025905 to 1.2247448716661893 i.e. the  left half\n",
      "root is at 1.2247448713460471\n"
     ]
    }
   ],
   "source": [
    "def another_bisection (x1,x2,fx1,fx2):\n",
    "    x3=(x1+x2)/2\n",
    "    fx3=f(x3)\n",
    "    if(abs(fx3) <= 0.000000001):\n",
    "        return x3\n",
    "    else:\n",
    "        if (fx3*fx2) < 0:\n",
    "            # if fx3*fx2 is negative, it means their signs are opposite\n",
    "            print('from {:18} to {:18} i.e. the right half'.format(x3,x2))\n",
    "            return another_bisection(x3,x2,fx3,fx2)\n",
    "        else:\n",
    "            print('from {:18} to {:18} i.e. the  left half'.format(x1,x3))\n",
    "            return another_bisection(x1,x3,fx1,fx3)\n",
    "\n",
    "## Driver program\n",
    "\n",
    "x_1=-1\n",
    "x_2=10\n",
    "f_x1=f(x_1)\n",
    "f_x2=f(x_2)\n",
    "print('from {:18} to {:18} '.format(x_1,x_2))\n",
    "\n",
    "if abs(f_x1) < 0.000000001:\n",
    "    print('root is',x_1)\n",
    "elif abs(f_x2) < 0.000000001:\n",
    "    print('root is',x_2)\n",
    "else:\n",
    "    if f_x1*f_x2 < 0:\n",
    "        # f_x1*f_x2 is negative, means they have different signs\n",
    "        print('root is at',another_bisection(x_1,x_2,f_x1,f_x2))\n",
    "    else:\n",
    "        print('matching signs- Interval discarded')"
   ]
  },
  {
   "cell_type": "markdown",
   "metadata": {},
   "source": [
    "## For any function $fn(x)$ as a parameter"
   ]
  },
  {
   "cell_type": "code",
   "execution_count": 3,
   "metadata": {},
   "outputs": [
    {
     "data": {
      "text/plain": [
       "2.718281828459045"
      ]
     },
     "execution_count": 3,
     "metadata": {},
     "output_type": "execute_result"
    }
   ],
   "source": [
    "import math as m\n",
    "\n",
    "# function to be passes as a parameter to the bisector function\n",
    "def my_fun(x):\n",
    "    return (m.e**x - m.sin(x))\n",
    "\n",
    "m.e"
   ]
  },
  {
   "cell_type": "code",
   "execution_count": 4,
   "metadata": {},
   "outputs": [
    {
     "name": "stdout",
     "output_type": "stream",
     "text": [
      "from                 -6 to                  2 \n",
      "from                 -6 to               -2.0 i.e. the  left half\n",
      "from               -4.0 to               -2.0 i.e. the right half\n",
      "from               -4.0 to               -3.0 i.e. the  left half\n",
      "from               -3.5 to               -3.0 i.e. the right half\n",
      "from              -3.25 to               -3.0 i.e. the right half\n",
      "from              -3.25 to             -3.125 i.e. the  left half\n",
      "from            -3.1875 to             -3.125 i.e. the right half\n",
      "from            -3.1875 to           -3.15625 i.e. the  left half\n",
      "from            -3.1875 to          -3.171875 i.e. the  left half\n",
      "from            -3.1875 to         -3.1796875 i.e. the  left half\n",
      "from        -3.18359375 to         -3.1796875 i.e. the right half\n",
      "from        -3.18359375 to       -3.181640625 i.e. the  left half\n",
      "from        -3.18359375 to      -3.1826171875 i.e. the  left half\n",
      "from     -3.18310546875 to      -3.1826171875 i.e. the right half\n",
      "from     -3.18310546875 to    -3.182861328125 i.e. the  left half\n",
      "from     -3.18310546875 to   -3.1829833984375 i.e. the  left half\n",
      "from     -3.18310546875 to  -3.18304443359375 i.e. the  left half\n",
      "from -3.183074951171875 to  -3.18304443359375 i.e. the right half\n",
      "from -3.183074951171875 to -3.1830596923828125 i.e. the  left half\n",
      "from -3.1830673217773438 to -3.1830596923828125 i.e. the right half\n",
      "from -3.183063507080078 to -3.1830596923828125 i.e. the right half\n",
      "from -3.183063507080078 to -3.1830615997314453 i.e. the  left half\n",
      "from -3.183063507080078 to -3.1830625534057617 i.e. the  left half\n",
      "from  -3.18306303024292 to -3.1830625534057617 i.e. the right half\n",
      "from  -3.18306303024292 to -3.183062791824341 i.e. the  left half\n",
      "from  -3.18306303024292 to -3.1830629110336304 i.e. the  left half\n",
      "from  -3.18306303024292 to -3.183062970638275 i.e. the  left half\n",
      "from  -3.18306303024292 to -3.1830630004405975 i.e. the  left half\n",
      "from -3.1830630153417587 to -3.1830630004405975 i.e. the right half\n",
      "from -3.1830630153417587 to -3.183063007891178 i.e. the  left half\n",
      "root is at -3.1830630116164684\n"
     ]
    }
   ],
   "source": [
    "def general_bisection (fn,x1,x2,fx1,fx2): #fn is the function to be bisected\n",
    "    x3=(x1+x2)/2\n",
    "    fx3=fn(x3)\n",
    "    if(abs(fx3) <= 0.000000001):\n",
    "        return x3\n",
    "    else:\n",
    "        if (fx3*fx2) < 0:\n",
    "            # if fx3*fx2 is negative, it means their signs are opposite\n",
    "            print('from {:18} to {:18} i.e. the right half'.format(x3,x2))\n",
    "            return general_bisection(fn,x3,x2,fx3,fx2)\n",
    "        else:\n",
    "            print('from {:18} to {:18} i.e. the  left half'.format(x1,x3))\n",
    "            return general_bisection(fn,x1,x3,fx1,fx3)\n",
    "\n",
    "## Driver program\n",
    "\n",
    "x_1=-6\n",
    "x_2=2\n",
    "f_x1=my_fun(x_1)\n",
    "f_x2=my_fun(x_2)\n",
    "print('from {:18} to {:18} '.format(x_1,x_2))\n",
    "\n",
    "if abs(f_x1) < 0.000000001:\n",
    "    print('root is',x_1)\n",
    "elif abs(f_x2) < 0.000000001:\n",
    "    print('root is',x_2)\n",
    "else:\n",
    "    if f_x1*f_x2 < 0:\n",
    "        # f_x1*f_x2 is negative, means they have different signs\n",
    "        print('root is at',general_bisection(my_fun,x_1,x_2,f_x1,f_x2))\n",
    "    else:\n",
    "        print('matching signs- Interval discarded')"
   ]
  },
  {
   "cell_type": "code",
   "execution_count": null,
   "metadata": {},
   "outputs": [],
   "source": []
  }
 ],
 "metadata": {
  "kernelspec": {
   "display_name": "Python 3",
   "language": "python",
   "name": "python3"
  },
  "language_info": {
   "codemirror_mode": {
    "name": "ipython",
    "version": 3
   },
   "file_extension": ".py",
   "mimetype": "text/x-python",
   "name": "python",
   "nbconvert_exporter": "python",
   "pygments_lexer": "ipython3",
   "version": "3.7.1"
  }
 },
 "nbformat": 4,
 "nbformat_minor": 2
}
